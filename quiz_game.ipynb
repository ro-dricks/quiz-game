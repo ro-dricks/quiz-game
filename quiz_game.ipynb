{
 "cells": [
  {
   "cell_type": "code",
   "execution_count": 15,
   "id": "0016e577",
   "metadata": {},
   "outputs": [
    {
     "name": "stdout",
     "output_type": "stream",
     "text": [
      "Who is the president of Kenya? WILLIAM RUTO\n",
      "CORRECT\n",
      "What is the capital city of Kenya? NAIROBI\n",
      "CORRECT\n",
      "When did Kenya attain independence? 1964\n",
      "CORRECT\n",
      "What is the highest GDP contributor to Kenya's economy? AGRICULTURE\n",
      "CORRECT\n",
      "What language is spoken in Kenya? KISWAHILI\n",
      "CORRECT\n",
      "You have 5 points\n"
     ]
    }
   ],
   "source": [
    "points = 0;\n",
    "\n",
    "question1 = input(\"Who is the president of Kenya? \")\n",
    "\n",
    "if question1.lower() == \"william ruto\":\n",
    "    print(\"CORRECT\")\n",
    "    points = points + 1\n",
    "else:\n",
    "    print(\"WRONG ANSWER!!\")\n",
    "\n",
    "question2 = input(\"What is the capital city of Kenya? \")\n",
    "\n",
    "if question2.lower() == \"nairobi\":\n",
    "    print(\"CORRECT\")\n",
    "    points = points + 1\n",
    "else:\n",
    "    print(\"WRONG ANSWER!!\")\n",
    "\n",
    "question3 = input(\"When did Kenya attain independence? \")\n",
    "\n",
    "if question3 == \"1964\":\n",
    "    print(\"CORRECT\")\n",
    "    points = points + 1\n",
    "else:\n",
    "    print(\"WRONG ANSWER!!\")\n",
    "\n",
    "question4 = input(\"What is the highest GDP contributor to Kenya's economy? \")\n",
    "\n",
    "if question4.lower() == \"agriculture\":\n",
    "    print(\"CORRECT\")\n",
    "    points = points + 1\n",
    "else:\n",
    "    print(\"WRONG ANSWER!!\")\n",
    "\n",
    "question5 = input(\"What language is spoken in Kenya? \")\n",
    "\n",
    "if question5.lower() == \"kiswahili\":\n",
    "    print(\"CORRECT\")\n",
    "    points = points + 1\n",
    "else:\n",
    "    print(\"WRONG ANSWER!\")\n",
    "    \n",
    "print(f\"You have {points} points\")"
   ]
  },
  {
   "cell_type": "code",
   "execution_count": null,
   "id": "c75bd874",
   "metadata": {},
   "outputs": [],
   "source": []
  },
  {
   "cell_type": "code",
   "execution_count": null,
   "id": "73746c49",
   "metadata": {},
   "outputs": [],
   "source": []
  }
 ],
 "metadata": {
  "kernelspec": {
   "display_name": "Python 3 (ipykernel)",
   "language": "python",
   "name": "python3"
  },
  "language_info": {
   "codemirror_mode": {
    "name": "ipython",
    "version": 3
   },
   "file_extension": ".py",
   "mimetype": "text/x-python",
   "name": "python",
   "nbconvert_exporter": "python",
   "pygments_lexer": "ipython3",
   "version": "3.10.6"
  }
 },
 "nbformat": 4,
 "nbformat_minor": 5
}
